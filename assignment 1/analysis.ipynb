{
 "cells": [
  {
   "cell_type": "code",
   "execution_count": null,
   "metadata": {},
   "outputs": [
    {
     "ename": "",
     "evalue": "",
     "output_type": "error",
     "traceback": [
      "\u001b[1;31mRunning cells with '/opt/homebrew/bin/python3' requires the ipykernel package.\n",
      "\u001b[1;31mRun the following command to install 'ipykernel' into the Python environment. \n",
      "\u001b[1;31mCommand: '/opt/homebrew/bin/python3 -m pip install ipykernel -U --user --force-reinstall'"
     ]
    }
   ],
   "source": [
    "import pandas as pd\n",
    "import numpy as np\n",
    "import matplotlib.pyplot as plt\n",
    "import seaborn as sns\n",
    "\n",
    "df = pd.read_csv(\"apple_stock.csv\")\n",
    "\n",
    "if \"Date\" not in df.columns and \"Unnamed: 0\" in df.columns:\n",
    "    df.rename(columns={\"Unnamed: 0\": \"Date\"}, inplace=True)\n",
    "\n",
    "df[\"Date\"] = pd.to_datetime(df[\"Date\"])\n",
    "df.drop_duplicates(inplace=True)\n",
    "df.ffill(inplace=True)\n",
    "\n",
    "print(df.describe())\n",
    "\n",
    "correlation_matrix = df.corr()\n",
    "plt.figure(figsize=(8, 6))\n",
    "sns.heatmap(correlation_matrix, annot=True, cmap=\"coolwarm\", fmt=\".2f\")\n",
    "plt.title(\"Correlation Heatmap\")\n",
    "plt.show()\n",
    "\n",
    "plt.figure(figsize=(12, 6))\n",
    "sns.boxplot(data=df[['Open', 'Close', 'High', 'Low']])\n",
    "plt.title(\"Boxplot of Stock Prices\")\n",
    "plt.show()\n",
    "\n",
    "Q1 = df[['Open', 'Close', 'High', 'Low']].quantile(0.25)\n",
    "Q3 = df[['Open', 'Close', 'High', 'Low']].quantile(0.75)\n",
    "IQR = Q3 - Q1\n",
    "\n",
    "df = df[~((df[['Open', 'Close', 'High', 'Low']] < (Q1 - 1.5 * IQR)) | \n",
    "          (df[['Open', 'Close', 'High', 'Low']] > (Q3 + 1.5 * IQR))).any(axis=1)]\n",
    "\n",
    "df[\"Moving Average\"] = df[\"Close\"].rolling(window=30).mean()\n",
    "\n",
    "plt.figure(figsize=(12, 6))\n",
    "plt.plot(df[\"Date\"], df[\"Close\"], color=\"blue\", label=\"Closing Price\")\n",
    "plt.plot(df[\"Date\"], df[\"Moving Average\"], color=\"red\", label=\"30-day Moving Average\")\n",
    "plt.xlabel(\"Date\")\n",
    "plt.ylabel(\"Stock Price\")\n",
    "plt.title(\"Apple Stock Price with Moving Average\")\n",
    "plt.legend()\n",
    "plt.xticks(rotation=45)\n",
    "plt.show()\n",
    "\n",
    "df[\"Daily Change\"] = df[\"Close\"] - df[\"Open\"]\n",
    "sns.histplot(df[\"Daily Change\"], bins=50, kde=True)\n",
    "plt.title(\"Distribution of Daily Price Changes\")\n",
    "plt.show()\n",
    "\n",
    "print(\"Business Insights:\")\n",
    "print(\"- The stock price has a strong correlation between Open and Close prices.\")\n",
    "print(\"- The data was cleaned from missing values and outliers.\")\n",
    "print(\"- The moving average indicates long-term trends.\")\n",
    "print(\"- The distribution of daily price changes suggests potential volatility.\")\n",
    "\n",
    "\n"
   ]
  },
  {
   "cell_type": "code",
   "execution_count": null,
   "metadata": {},
   "outputs": [],
   "source": []
  },
  {
   "cell_type": "code",
   "execution_count": null,
   "metadata": {},
   "outputs": [],
   "source": []
  }
 ],
 "metadata": {
  "kernelspec": {
   "display_name": "Python 3 (ipykernel)",
   "language": "python",
   "name": "python3"
  },
  "language_info": {
   "codemirror_mode": {
    "name": "ipython",
    "version": 3
   },
   "file_extension": ".py",
   "mimetype": "text/x-python",
   "name": "python",
   "nbconvert_exporter": "python",
   "pygments_lexer": "ipython3",
   "version": "3.13.1"
  }
 },
 "nbformat": 4,
 "nbformat_minor": 4
}
